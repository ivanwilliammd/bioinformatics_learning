{
 "cells": [
  {
   "cell_type": "code",
   "execution_count": 1,
   "id": "cordless-coach",
   "metadata": {},
   "outputs": [],
   "source": [
    "from Bio import SeqIO #import the SeqIO Module\n",
    "from Bio.Seq import Seq #import the Seq Module\n",
    "from Bio.SeqRecord import SeqRecord #import the SeqRecord Module\n",
    "\n",
    "from Bio.Blast import NCBIWWW\n",
    "from Bio.Blast import NCBIXML\n",
    "# help(NCBIWWW.qblast)"
   ]
  },
  {
   "cell_type": "code",
   "execution_count": 2,
   "id": "raised-ownership",
   "metadata": {},
   "outputs": [
    {
     "name": "stdout",
     "output_type": "stream",
     "text": [
      "Connecting to blast server\n",
      "CATGCTACGGTGCTAAAAGCATTACGCCCTATAGTGATTTTCGAGACATACTGTGTTTTTAAATATAGTATTGCC\n"
     ]
    }
   ],
   "source": [
    "print('Connecting to blast server')\n",
    "\n",
    "# fasta_string = open(\"myseq.fa\").read()\n",
    "record = SeqIO.read(\"myseq.fa\", format=\"fasta\")\n",
    "print(record.seq)\n",
    "\n",
    "# result_handle = NCBIWWW.qblast(\"blastn\", \"nt\", fasta_string)\n",
    "result_handle = NCBIWWW.qblast(\"blastn\", \"nt\", record.seq)\n",
    "\n",
    "\n",
    "print('Getting and WritingXML result')\n",
    "with open(\"my_blast.xml\", \"w\") as out_handle:\n",
    "    out_handle.write(result_handle.read())\n",
    "    result_handle.close()\n",
    "    out_handle.close()"
   ]
  },
  {
   "cell_type": "code",
   "execution_count": null,
   "id": "stupid-purple",
   "metadata": {},
   "outputs": [],
   "source": [
    "print('Reading and parse blast record based on E score')\n",
    "blast_record = NCBIXML.read(result_handle)\n",
    "\n",
    "print('There are ', len(blast_record.alignments), 'alignments in this blast search.')\n",
    "\n",
    "output = open('Biopython_BlastResult.txt', 'w+')\n",
    "E_VALUE_THRESH = 0.01\n",
    "for alignment in blast_record.alignments:\n",
    "    for hsp in alignment.hsps:\n",
    "        if hsp.expect < E_VALUE_THRESH:\n",
    "            print('****Alignment****')\n",
    "            print('sequence:', alignment.title)\n",
    "            print('length:', alignment.length)\n",
    "            print('e value:', hsp.expect)\n",
    "            print(hsp.query)\n",
    "            print(hsp.match)\n",
    "            print(hsp.sbjct)\n",
    "\n",
    "            output.write('****Alignment****'+ '\\n')\n",
    "            output.write('sequence:', alignment.title+ '\\n')\n",
    "            output.write('length:', alignment.length+ '\\n')\n",
    "            output.write('e value:', hsp.expect+ '\\n')\n",
    "            output.write(hsp.query+ '\\n')\n",
    "            output.write(hsp.match+ '\\n')\n",
    "            output.write(hsp.sbjct+ '\\n')\n",
    "\n",
    "\n",
    "output.close()"
   ]
  }
 ],
 "metadata": {
  "kernelspec": {
   "display_name": "Python 3",
   "language": "python",
   "name": "python3"
  },
  "language_info": {
   "codemirror_mode": {
    "name": "ipython",
    "version": 3
   },
   "file_extension": ".py",
   "mimetype": "text/x-python",
   "name": "python",
   "nbconvert_exporter": "python",
   "pygments_lexer": "ipython3",
   "version": "3.8.8"
  }
 },
 "nbformat": 4,
 "nbformat_minor": 5
}

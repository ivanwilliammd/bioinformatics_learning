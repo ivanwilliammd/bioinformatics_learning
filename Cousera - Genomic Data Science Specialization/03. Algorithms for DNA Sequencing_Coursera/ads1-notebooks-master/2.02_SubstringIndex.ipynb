{
 "cells": [
  {
   "cell_type": "code",
   "execution_count": 1,
   "metadata": {
    "collapsed": false
   },
   "outputs": [],
   "source": [
    "import bisect\n",
    "import sys"
   ]
  },
  {
   "cell_type": "code",
   "execution_count": 13,
   "metadata": {
    "collapsed": false
   },
   "outputs": [],
   "source": [
    "class Index(object):\n",
    "    def __init__(self, t, k):\n",
    "        ''' Create index from all substrings of size 'length' '''\n",
    "        self.k = k  # k-mer length (k)\n",
    "        self.index = []\n",
    "        for i in range(len(t) - k + 1):  # for each k-mer\n",
    "            self.index.append((t[i:i+k], i))  # add (k-mer, offset) pair\n",
    "        self.index.sort()  # alphabetize by k-mer\n",
    "    \n",
    "    def query(self, p):\n",
    "        ''' Return index hits for first k-mer of P '''\n",
    "        kmer = p[:self.k]  # query with first k-mer\n",
    "        print(kmer)\n",
    "        i = bisect.bisect_left(self.index, (kmer, -1))  # binary search\n",
    "        hits = []\n",
    "        while i < len(self.index):  # collect matching index entries\n",
    "            if self.index[i][0] != kmer:\n",
    "                break\n",
    "            hits.append(self.index[i][1])\n",
    "            i += 1\n",
    "        return hits"
   ]
  },
  {
   "cell_type": "code",
   "execution_count": 14,
   "metadata": {
    "collapsed": false
   },
   "outputs": [],
   "source": [
    "def queryIndex(p, t, index):\n",
    "    k = index.k\n",
    "    offsets = []\n",
    "    for i in index.query(p):\n",
    "        if p[k:] == t[i+k:i+len(p)]:  # verify that rest of P matches\n",
    "            offsets.append(i)\n",
    "    return offsets"
   ]
  },
  {
   "cell_type": "code",
   "execution_count": 15,
   "metadata": {
    "collapsed": false
   },
   "outputs": [],
   "source": [
    "t = 'ACTTGGAGATCTTTGAGGCTAGGTATTCGGGATCGAAGCTCATTTCGGGGATCGATTACGATATGGTGGGTATTCGGGA'\n",
    "p = 'GGTATTCGGGA'"
   ]
  },
  {
   "cell_type": "code",
   "execution_count": 16,
   "metadata": {
    "collapsed": false
   },
   "outputs": [
    {
     "name": "stdout",
     "output_type": "stream",
     "text": [
      "GGTA\n",
      "[21, 68]\n"
     ]
    }
   ],
   "source": [
    "index = Index(t, 4)\n",
    "print(queryIndex(p, t, index))"
   ]
  },
  {
   "cell_type": "code",
   "execution_count": 12,
   "metadata": {},
   "outputs": [
    {
     "name": "stdout",
     "output_type": "stream",
     "text": [
      "4 [('AAGC', 35), ('ACGA', 57), ('ACTT', 0), ('AGAT', 6), ('AGCT', 36), ('AGGC', 15), ('AGGT', 20), ('ATAT', 60), ('ATCG', 31), ('ATCG', 50), ('ATCT', 8), ('ATGG', 62), ('ATTA', 54), ('ATTC', 24), ('ATTC', 71), ('ATTT', 41), ('CATT', 40), ('CGAA', 33), ('CGAT', 52), ('CGAT', 58), ('CGGG', 27), ('CGGG', 45), ('CGGG', 74), ('CTAG', 18), ('CTCA', 38), ('CTTG', 1), ('CTTT', 10), ('GAAG', 34), ('GAGA', 5), ('GAGG', 14), ('GATA', 59), ('GATC', 7), ('GATC', 30), ('GATC', 49), ('GATT', 53), ('GCTA', 17), ('GCTC', 37), ('GGAG', 4), ('GGAT', 29), ('GGAT', 48), ('GGCT', 16), ('GGGA', 28), ('GGGA', 47), ('GGGA', 75), ('GGGG', 46), ('GGGT', 67), ('GGTA', 21), ('GGTA', 68), ('GGTG', 64), ('GTAT', 22), ('GTAT', 69), ('GTGG', 65), ('TACG', 56), ('TAGG', 19), ('TATG', 61), ('TATT', 23), ('TATT', 70), ('TCAT', 39), ('TCGA', 32), ('TCGA', 51), ('TCGG', 26), ('TCGG', 44), ('TCGG', 73), ('TCTT', 9), ('TGAG', 13), ('TGGA', 3), ('TGGG', 66), ('TGGT', 63), ('TTAC', 55), ('TTCG', 25), ('TTCG', 43), ('TTCG', 72), ('TTGA', 12), ('TTGG', 2), ('TTTC', 42), ('TTTG', 11)]\n"
     ]
    }
   ],
   "source": [
    "print(index.k, index.index)"
   ]
  },
  {
   "cell_type": "code",
   "execution_count": null,
   "metadata": {},
   "outputs": [],
   "source": []
  }
 ],
 "metadata": {
  "kernelspec": {
   "display_name": "Python 3",
   "language": "python",
   "name": "python3"
  },
  "language_info": {
   "codemirror_mode": {
    "name": "ipython",
    "version": 3
   },
   "file_extension": ".py",
   "mimetype": "text/x-python",
   "name": "python",
   "nbconvert_exporter": "python",
   "pygments_lexer": "ipython3",
   "version": "3.8.8"
  }
 },
 "nbformat": 4,
 "nbformat_minor": 0
}
